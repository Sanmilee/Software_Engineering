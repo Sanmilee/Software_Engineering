{
 "cells": [
  {
   "cell_type": "code",
   "execution_count": 2,
   "metadata": {},
   "outputs": [],
   "source": [
    "import pytest\n",
    "import ipytest\n",
    "\n",
    "ipytest.autoconfig()"
   ]
  },
  {
   "cell_type": "code",
   "execution_count": 3,
   "metadata": {},
   "outputs": [],
   "source": [
    "def first(l):\n",
    "    return l[0] if l else None"
   ]
  },
  {
   "cell_type": "code",
   "execution_count": 4,
   "metadata": {},
   "outputs": [],
   "source": [
    "def test_first():\n",
    "    assert first([1, 2, 3]) == 1"
   ]
  },
  {
   "cell_type": "code",
   "execution_count": 5,
   "metadata": {},
   "outputs": [],
   "source": [
    "def test_sec():\n",
    "    assert first([]) is None"
   ]
  },
  {
   "cell_type": "code",
   "execution_count": 6,
   "metadata": {},
   "outputs": [
    {
     "name": "stdout",
     "output_type": "stream",
     "text": [
      "..                                                                                                               [100%]\n"
     ]
    }
   ],
   "source": [
    "ipytest.run('-qq')\n"
   ]
  },
  {
   "cell_type": "code",
   "execution_count": null,
   "metadata": {},
   "outputs": [],
   "source": []
  },
  {
   "cell_type": "code",
   "execution_count": null,
   "metadata": {},
   "outputs": [],
   "source": []
  },
  {
   "cell_type": "code",
   "execution_count": 3,
   "metadata": {},
   "outputs": [],
   "source": [
    "class Calculate:\n",
    "    \n",
    "    def add(x, y):\n",
    "        return x + y\n",
    "    \n",
    "    def sub(x, y):\n",
    "        return x - y\n",
    "\n",
    "    def mul(x, y):\n",
    "        return x * y\n",
    "\n",
    "    def div(x, y):\n",
    "        return x / y"
   ]
  },
  {
   "cell_type": "code",
   "execution_count": 4,
   "metadata": {},
   "outputs": [],
   "source": [
    "import unittest\n",
    "\n",
    "number = Calculate\n",
    "\n",
    "class TestInt(unittest.TestCase):\n",
    "    \n",
    "    def test_add(self):\n",
    "        \"\"\" Add both numbers \"\"\"\n",
    "        assert number.add(6, 3) == 9\n",
    "        \n",
    "    def test_sub(self):\n",
    "        \"\"\" Substract both numbers \"\"\"\n",
    "        assert number.sub(10, 4) == 6\n",
    "        \n",
    "    def test_mul(self):\n",
    "        \"\"\" Multiply both numbers \"\"\"\n",
    "        assert number.mul(10, 5) == 50\n",
    "        \n",
    "    def test_div(self):\n",
    "        \"\"\" Divide both numbers \"\"\"\n",
    "        assert number.div(22, 11) == 2"
   ]
  },
  {
   "cell_type": "code",
   "execution_count": 5,
   "metadata": {},
   "outputs": [
    {
     "name": "stdout",
     "output_type": "stream",
     "text": [
      "....                                                                                                             [100%]\n"
     ]
    }
   ],
   "source": [
    "ipytest.run('-qq')\n"
   ]
  },
  {
   "cell_type": "code",
   "execution_count": null,
   "metadata": {},
   "outputs": [],
   "source": []
  },
  {
   "cell_type": "code",
   "execution_count": null,
   "metadata": {},
   "outputs": [],
   "source": []
  }
 ],
 "metadata": {
  "kernelspec": {
   "display_name": "Python 3",
   "language": "python",
   "name": "python3"
  },
  "language_info": {
   "codemirror_mode": {
    "name": "ipython",
    "version": 3
   },
   "file_extension": ".py",
   "mimetype": "text/x-python",
   "name": "python",
   "nbconvert_exporter": "python",
   "pygments_lexer": "ipython3",
   "version": "3.6.7"
  }
 },
 "nbformat": 4,
 "nbformat_minor": 2
}
