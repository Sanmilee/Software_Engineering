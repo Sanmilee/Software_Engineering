{
 "cells": [
  {
   "cell_type": "markdown",
   "metadata": {},
   "source": [
    "# Unit Test for Integers"
   ]
  },
  {
   "cell_type": "markdown",
   "metadata": {},
   "source": [
    "### Using a call to function"
   ]
  },
  {
   "cell_type": "code",
   "execution_count": 1,
   "metadata": {},
   "outputs": [],
   "source": [
    "def add(x, y):\n",
    "    return x + y\n",
    "\n",
    "def sub(x, y):\n",
    "    return x - y\n",
    "\n",
    "def mul(x, y):\n",
    "    return x * y\n",
    "\n",
    "def div(x, y):\n",
    "    return x / y"
   ]
  },
  {
   "cell_type": "code",
   "execution_count": 2,
   "metadata": {},
   "outputs": [],
   "source": [
    "import unittest\n",
    "\n",
    "class TestInt(unittest.TestCase):\n",
    "    def test_add(self):\n",
    "        \"\"\" Add both numbers \"\"\"\n",
    "        self.assertEqual(9, add(6, 3))\n",
    "        \n",
    "    def test_sub(self):\n",
    "        \"\"\" Substract both numbers \"\"\"\n",
    "        self.assertEqual(6, sub(10, 4))\n",
    "        \n",
    "    def test_mul(self):\n",
    "        \"\"\" Multiply both numbers \"\"\"\n",
    "        self.assertEqual(50, mul(10, 5))\n",
    "        \n",
    "    def test_div(self):\n",
    "        \"\"\" Divide both numbers \"\"\"\n",
    "        self.assertEqual(div(22, 11), 2)"
   ]
  },
  {
   "cell_type": "code",
   "execution_count": 3,
   "metadata": {},
   "outputs": [
    {
     "name": "stderr",
     "output_type": "stream",
     "text": [
      "....\n",
      "----------------------------------------------------------------------\n",
      "Ran 4 tests in 0.003s\n",
      "\n",
      "OK\n"
     ]
    },
    {
     "data": {
      "text/plain": [
       "<unittest.main.TestProgram at 0x28711397a90>"
      ]
     },
     "execution_count": 3,
     "metadata": {},
     "output_type": "execute_result"
    }
   ],
   "source": [
    "unittest.main(argv=[''], verbosity=1, exit=False)"
   ]
  },
  {
   "cell_type": "code",
   "execution_count": 4,
   "metadata": {},
   "outputs": [
    {
     "name": "stderr",
     "output_type": "stream",
     "text": [
      "test_add (__main__.TestInt)\n",
      "Add both numbers ... ok\n",
      "test_div (__main__.TestInt)\n",
      "Divide both numbers ... ok\n",
      "test_mul (__main__.TestInt)\n",
      "Multiply both numbers ... ok\n",
      "test_sub (__main__.TestInt)\n",
      "Substract both numbers ... ok\n",
      "\n",
      "----------------------------------------------------------------------\n",
      "Ran 4 tests in 0.002s\n",
      "\n",
      "OK\n"
     ]
    },
    {
     "data": {
      "text/plain": [
       "<unittest.main.TestProgram at 0x287113fc4e0>"
      ]
     },
     "execution_count": 4,
     "metadata": {},
     "output_type": "execute_result"
    }
   ],
   "source": [
    "unittest.main(argv=[''], verbosity=2, exit=False)"
   ]
  },
  {
   "cell_type": "code",
   "execution_count": null,
   "metadata": {},
   "outputs": [],
   "source": []
  },
  {
   "cell_type": "code",
   "execution_count": null,
   "metadata": {},
   "outputs": [],
   "source": []
  },
  {
   "cell_type": "markdown",
   "metadata": {},
   "source": [
    "### Using an object to instatiate the class Calculate"
   ]
  },
  {
   "cell_type": "code",
   "execution_count": 4,
   "metadata": {},
   "outputs": [],
   "source": [
    "class Calculate:\n",
    "    \n",
    "    def add(x, y):\n",
    "        return x + y\n",
    "    \n",
    "    def sub(x, y):\n",
    "        return x - y\n",
    "\n",
    "    def mul(x, y):\n",
    "        return x * y\n",
    "\n",
    "    def div(x, y):\n",
    "        return x / y"
   ]
  },
  {
   "cell_type": "code",
   "execution_count": 5,
   "metadata": {},
   "outputs": [],
   "source": [
    "import unittest\n",
    "\n",
    "number = Calculate\n",
    "\n",
    "class TestInt(unittest.TestCase):\n",
    "    \n",
    "    def test_add(self):\n",
    "        \"\"\" Add both numbers \"\"\"\n",
    "        self.assertEqual(9, number.add(6, 3))\n",
    "        \n",
    "    def test_sub(self):\n",
    "        \"\"\" Substract both numbers \"\"\"\n",
    "        self.assertEqual(6, number.sub(10, 4))\n",
    "        \n",
    "    def test_mul(self):\n",
    "        \"\"\" Multiply both numbers \"\"\"\n",
    "        self.assertEqual(50, number.mul(10, 5))\n",
    "        \n",
    "    def test_div(self):\n",
    "        \"\"\" Divide both numbers \"\"\"\n",
    "        self.assertEqual(number.div(22, 11), 2)"
   ]
  },
  {
   "cell_type": "code",
   "execution_count": 6,
   "metadata": {},
   "outputs": [
    {
     "name": "stderr",
     "output_type": "stream",
     "text": [
      "test_add (__main__.TestInt)\n",
      "Add both numbers ... ok\n",
      "test_div (__main__.TestInt)\n",
      "Divide both numbers ... ok\n",
      "test_mul (__main__.TestInt)\n",
      "Multiply both numbers ... ok\n",
      "test_sub (__main__.TestInt)\n",
      "Substract both numbers ... ok\n",
      "\n",
      "----------------------------------------------------------------------\n",
      "Ran 4 tests in 0.003s\n",
      "\n",
      "OK\n"
     ]
    },
    {
     "data": {
      "text/plain": [
       "<unittest.main.TestProgram at 0x242c27d45c0>"
      ]
     },
     "execution_count": 6,
     "metadata": {},
     "output_type": "execute_result"
    }
   ],
   "source": [
    "unittest.main(argv=[''], verbosity=2, exit=False)"
   ]
  },
  {
   "cell_type": "code",
   "execution_count": null,
   "metadata": {},
   "outputs": [],
   "source": []
  },
  {
   "cell_type": "code",
   "execution_count": null,
   "metadata": {},
   "outputs": [],
   "source": []
  }
 ],
 "metadata": {
  "kernelspec": {
   "display_name": "Python 3",
   "language": "python",
   "name": "python3"
  },
  "language_info": {
   "codemirror_mode": {
    "name": "ipython",
    "version": 3
   },
   "file_extension": ".py",
   "mimetype": "text/x-python",
   "name": "python",
   "nbconvert_exporter": "python",
   "pygments_lexer": "ipython3",
   "version": "3.6.7"
  }
 },
 "nbformat": 4,
 "nbformat_minor": 2
}
